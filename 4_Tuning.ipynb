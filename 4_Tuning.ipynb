{
  "nbformat": 4,
  "nbformat_minor": 0,
  "metadata": {
    "colab": {
      "provenance": []
    },
    "kernelspec": {
      "name": "python3",
      "display_name": "Python 3"
    },
    "language_info": {
      "name": "python"
    }
  },
  "cells": [
    {
      "cell_type": "markdown",
      "source": [
        "#Step 4: tuning dei modelli e ricerca dei migliori iperparametri attraverso GridSearch#"
      ],
      "metadata": {
        "id": "LFsDQ9Z1opHd"
      }
    },
    {
      "cell_type": "code",
      "metadata": {
        "id": "2MEF5C-pC4q7"
      },
      "source": [
        "from datetime import datetime, timedelta, date\n",
        "%matplotlib inline\n",
        "import matplotlib.pyplot as plt\n",
        "import numpy as np\n",
        "import seaborn as sns\n",
        "import plotly.express as px\n",
        "import plotly.graph_objects as go"
      ],
      "execution_count": null,
      "outputs": []
    },
    {
      "cell_type": "code",
      "metadata": {
        "colab": {
          "base_uri": "https://localhost:8080/"
        },
        "id": "qCnb9ok_C4vL",
        "outputId": "a98ba661-792c-4118-eb17-7f1ed57d57e0"
      },
      "source": [
        "import pandas as pd\n",
        "from google.colab import drive\n",
        "drive.mount('/content/drive')"
      ],
      "execution_count": null,
      "outputs": [
        {
          "output_type": "stream",
          "text": [
            "Mounted at /content/drive\n"
          ],
          "name": "stdout"
        }
      ]
    },
    {
      "cell_type": "code",
      "metadata": {
        "id": "PmTX2AIxC4x7"
      },
      "source": [
        "df = pd.read_parquet(\"/content/drive/MyDrive/Colab Notebooks/Models4.parquet\")"
      ],
      "execution_count": null,
      "outputs": []
    },
    {
      "cell_type": "code",
      "metadata": {
        "id": "YwhxtTFvFwNY"
      },
      "source": [
        "Regressors=['n_restituzioni','Dummy_neg','Recency','Frequency','Monetary','T']\n",
        "var_num=['n_restituzioni','Recency','Frequency','Monetary','T']\n",
        "X=df.drop('purchaseamount_m4', axis=1)\n",
        "y=df['purchaseamount_m4']\n",
        "#Splitto in train e test set\n",
        "from sklearn.model_selection import train_test_split\n",
        "X_train, X_test, y_train, y_test = train_test_split(X,y, test_size=0.25, random_state=29)"
      ],
      "execution_count": null,
      "outputs": []
    },
    {
      "cell_type": "markdown",
      "metadata": {
        "id": "WF3QgrIoLLu5"
      },
      "source": [
        "**Standardizzazione delle variabili quantitative**"
      ]
    },
    {
      "cell_type": "code",
      "metadata": {
        "colab": {
          "base_uri": "https://localhost:8080/"
        },
        "id": "kkYZvHdzF1iI",
        "outputId": "60ce551d-fb14-49d1-a0b4-6bb6733c4b8b"
      },
      "source": [
        "from sklearn.preprocessing import StandardScaler\n",
        "std_scl= StandardScaler()\n",
        "X_train[var_num] = std_scl.fit_transform(X_train[var_num])\n",
        "X_test[var_num] =std_scl.transform(X_test[var_num])"
      ],
      "execution_count": null,
      "outputs": [
        {
          "output_type": "stream",
          "text": [
            "/usr/local/lib/python3.7/dist-packages/ipykernel_launcher.py:3: SettingWithCopyWarning:\n",
            "\n",
            "\n",
            "A value is trying to be set on a copy of a slice from a DataFrame.\n",
            "Try using .loc[row_indexer,col_indexer] = value instead\n",
            "\n",
            "See the caveats in the documentation: https://pandas.pydata.org/pandas-docs/stable/user_guide/indexing.html#returning-a-view-versus-a-copy\n",
            "\n",
            "/usr/local/lib/python3.7/dist-packages/pandas/core/indexing.py:1734: SettingWithCopyWarning:\n",
            "\n",
            "\n",
            "A value is trying to be set on a copy of a slice from a DataFrame.\n",
            "Try using .loc[row_indexer,col_indexer] = value instead\n",
            "\n",
            "See the caveats in the documentation: https://pandas.pydata.org/pandas-docs/stable/user_guide/indexing.html#returning-a-view-versus-a-copy\n",
            "\n",
            "/usr/local/lib/python3.7/dist-packages/ipykernel_launcher.py:4: SettingWithCopyWarning:\n",
            "\n",
            "\n",
            "A value is trying to be set on a copy of a slice from a DataFrame.\n",
            "Try using .loc[row_indexer,col_indexer] = value instead\n",
            "\n",
            "See the caveats in the documentation: https://pandas.pydata.org/pandas-docs/stable/user_guide/indexing.html#returning-a-view-versus-a-copy\n",
            "\n",
            "/usr/local/lib/python3.7/dist-packages/pandas/core/indexing.py:1734: SettingWithCopyWarning:\n",
            "\n",
            "\n",
            "A value is trying to be set on a copy of a slice from a DataFrame.\n",
            "Try using .loc[row_indexer,col_indexer] = value instead\n",
            "\n",
            "See the caveats in the documentation: https://pandas.pydata.org/pandas-docs/stable/user_guide/indexing.html#returning-a-view-versus-a-copy\n",
            "\n"
          ],
          "name": "stderr"
        }
      ]
    },
    {
      "cell_type": "code",
      "metadata": {
        "id": "O1euf04RF1dA"
      },
      "source": [
        "X_train,X_test=X_train[var_num],X_test[var_num]"
      ],
      "execution_count": null,
      "outputs": []
    },
    {
      "cell_type": "code",
      "metadata": {
        "colab": {
          "base_uri": "https://localhost:8080/",
          "height": 190
        },
        "id": "-I27Lx1-Llom",
        "outputId": "e52852d0-b2b6-427e-9f0b-9ea60af3035a"
      },
      "source": [
        "X_train.head()"
      ],
      "execution_count": null,
      "outputs": [
        {
          "output_type": "execute_result",
          "data": {
            "text/html": [
              "<div>\n",
              "<style scoped>\n",
              "    .dataframe tbody tr th:only-of-type {\n",
              "        vertical-align: middle;\n",
              "    }\n",
              "\n",
              "    .dataframe tbody tr th {\n",
              "        vertical-align: top;\n",
              "    }\n",
              "\n",
              "    .dataframe thead th {\n",
              "        text-align: right;\n",
              "    }\n",
              "</style>\n",
              "<table border=\"1\" class=\"dataframe\">\n",
              "  <thead>\n",
              "    <tr style=\"text-align: right;\">\n",
              "      <th></th>\n",
              "      <th>n_restituzioni</th>\n",
              "      <th>Recency</th>\n",
              "      <th>Frequency</th>\n",
              "      <th>Monetary</th>\n",
              "      <th>T</th>\n",
              "    </tr>\n",
              "  </thead>\n",
              "  <tbody>\n",
              "    <tr>\n",
              "      <th>30378</th>\n",
              "      <td>0.267588</td>\n",
              "      <td>0.347551</td>\n",
              "      <td>-0.135540</td>\n",
              "      <td>-0.246653</td>\n",
              "      <td>0.242920</td>\n",
              "    </tr>\n",
              "    <tr>\n",
              "      <th>26401</th>\n",
              "      <td>1.228812</td>\n",
              "      <td>-0.063033</td>\n",
              "      <td>0.917423</td>\n",
              "      <td>0.756197</td>\n",
              "      <td>0.242920</td>\n",
              "    </tr>\n",
              "    <tr>\n",
              "      <th>10531</th>\n",
              "      <td>2.510445</td>\n",
              "      <td>-0.268326</td>\n",
              "      <td>-0.517605</td>\n",
              "      <td>-0.701132</td>\n",
              "      <td>0.148228</td>\n",
              "    </tr>\n",
              "    <tr>\n",
              "      <th>26533</th>\n",
              "      <td>-0.533432</td>\n",
              "      <td>0.244905</td>\n",
              "      <td>-1.075163</td>\n",
              "      <td>-1.418428</td>\n",
              "      <td>-0.088501</td>\n",
              "    </tr>\n",
              "    <tr>\n",
              "      <th>7135</th>\n",
              "      <td>-0.132922</td>\n",
              "      <td>-0.576264</td>\n",
              "      <td>0.052750</td>\n",
              "      <td>0.248421</td>\n",
              "      <td>0.337612</td>\n",
              "    </tr>\n",
              "  </tbody>\n",
              "</table>\n",
              "</div>"
            ],
            "text/plain": [
              "       n_restituzioni   Recency  Frequency  Monetary         T\n",
              "30378        0.267588  0.347551  -0.135540 -0.246653  0.242920\n",
              "26401        1.228812 -0.063033   0.917423  0.756197  0.242920\n",
              "10531        2.510445 -0.268326  -0.517605 -0.701132  0.148228\n",
              "26533       -0.533432  0.244905  -1.075163 -1.418428 -0.088501\n",
              "7135        -0.132922 -0.576264   0.052750  0.248421  0.337612"
            ]
          },
          "metadata": {
            "tags": []
          },
          "execution_count": 7
        }
      ]
    },
    {
      "cell_type": "code",
      "metadata": {
        "id": "V5hiTqbMC41S"
      },
      "source": [
        "from sklearn.linear_model import LinearRegression\n",
        "from sklearn.ensemble import RandomForestRegressor\n",
        "import numpy as np\n",
        "\n",
        "#Lineare con T senza dummy\n",
        "lin_reg= LinearRegression()\n",
        "lin_reg.fit(X_train, y_train)\n",
        "y_pred=lin_reg.predict(X_train)\n",
        "y_pred_test=lin_reg.predict(X_test)\n",
        "#Residui\n",
        "y_e_train=y_train - y_pred\n",
        "y_e_test=y_test - y_pred_test\n",
        "\n"
      ],
      "execution_count": null,
      "outputs": []
    },
    {
      "cell_type": "code",
      "metadata": {
        "colab": {
          "base_uri": "https://localhost:8080/"
        },
        "id": "YQQAm3kCEYVV",
        "outputId": "3178590a-a1d6-4071-ad66-f83b58124dcf"
      },
      "source": [
        "from sklearn.model_selection import GridSearchCV\n",
        "\n",
        "param_grid = [\n",
        "    {'n_estimators': [300, 900], 'max_depth': [2,8],'min_samples_split':[0.02,0.2]}\n",
        "]\n",
        "\n",
        "forest_reg = RandomForestRegressor()\n",
        "\n",
        "grid_search = GridSearchCV(forest_reg, param_grid, cv=5,\n",
        "                          scoring= 'neg_mean_squared_error',\n",
        "                          return_train_score= True)\n",
        "\n",
        "grid_search.fit(X_train, y_train)"
      ],
      "execution_count": null,
      "outputs": [
        {
          "output_type": "execute_result",
          "data": {
            "text/plain": [
              "GridSearchCV(cv=5, error_score=nan,\n",
              "             estimator=RandomForestRegressor(bootstrap=True, ccp_alpha=0.0,\n",
              "                                             criterion='mse', max_depth=None,\n",
              "                                             max_features='auto',\n",
              "                                             max_leaf_nodes=None,\n",
              "                                             max_samples=None,\n",
              "                                             min_impurity_decrease=0.0,\n",
              "                                             min_impurity_split=None,\n",
              "                                             min_samples_leaf=1,\n",
              "                                             min_samples_split=2,\n",
              "                                             min_weight_fraction_leaf=0.0,\n",
              "                                             n_estimators=100, n_jobs=None,\n",
              "                                             oob_score=False, random_state=None,\n",
              "                                             verbose=0, warm_start=False),\n",
              "             iid='deprecated', n_jobs=None,\n",
              "             param_grid=[{'max_depth': [2, 8], 'min_samples_split': [0.02, 0.2],\n",
              "                          'n_estimators': [300, 900]}],\n",
              "             pre_dispatch='2*n_jobs', refit=True, return_train_score=True,\n",
              "             scoring='neg_mean_squared_error', verbose=0)"
            ]
          },
          "metadata": {
            "tags": []
          },
          "execution_count": 9
        }
      ]
    },
    {
      "cell_type": "code",
      "metadata": {
        "colab": {
          "base_uri": "https://localhost:8080/"
        },
        "id": "DjLpQRYTIXxT",
        "outputId": "64f92f03-4233-4944-b14b-44a852fe0cec"
      },
      "source": [
        "grid_search.best_params_"
      ],
      "execution_count": null,
      "outputs": [
        {
          "output_type": "execute_result",
          "data": {
            "text/plain": [
              "{'max_depth': 8, 'min_samples_split': 0.02, 'n_estimators': 900}"
            ]
          },
          "metadata": {
            "tags": []
          },
          "execution_count": 10
        }
      ]
    },
    {
      "cell_type": "code",
      "metadata": {
        "colab": {
          "base_uri": "https://localhost:8080/"
        },
        "id": "GItqZxe-IYcT",
        "outputId": "eb846829-53de-47f6-fa47-995771bda738"
      },
      "source": [
        "grid_search.best_estimator_"
      ],
      "execution_count": null,
      "outputs": [
        {
          "output_type": "execute_result",
          "data": {
            "text/plain": [
              "RandomForestRegressor(bootstrap=True, ccp_alpha=0.0, criterion='mse',\n",
              "                      max_depth=8, max_features='auto', max_leaf_nodes=None,\n",
              "                      max_samples=None, min_impurity_decrease=0.0,\n",
              "                      min_impurity_split=None, min_samples_leaf=1,\n",
              "                      min_samples_split=0.02, min_weight_fraction_leaf=0.0,\n",
              "                      n_estimators=900, n_jobs=None, oob_score=False,\n",
              "                      random_state=None, verbose=0, warm_start=False)"
            ]
          },
          "metadata": {
            "tags": []
          },
          "execution_count": 11
        }
      ]
    },
    {
      "cell_type": "code",
      "metadata": {
        "colab": {
          "base_uri": "https://localhost:8080/"
        },
        "id": "vK73C_AqRywk",
        "outputId": "3097f6e2-1931-4d1b-80c7-2d894b42d9d6"
      },
      "source": [
        "cvres= grid_search.cv_results_\n",
        "for mean_score, params in zip(cvres[\"mean_test_score\"], cvres[\"params\"]):\n",
        "    print(np.sqrt(-mean_score), params)"
      ],
      "execution_count": null,
      "outputs": [
        {
          "output_type": "stream",
          "text": [
            "1348.4395579461655 {'max_depth': 2, 'min_samples_split': 0.02, 'n_estimators': 300}\n",
            "1342.7732566490179 {'max_depth': 2, 'min_samples_split': 0.02, 'n_estimators': 900}\n",
            "1394.8410526273283 {'max_depth': 2, 'min_samples_split': 0.2, 'n_estimators': 300}\n",
            "1393.7276784264702 {'max_depth': 2, 'min_samples_split': 0.2, 'n_estimators': 900}\n",
            "1210.4941489011724 {'max_depth': 8, 'min_samples_split': 0.02, 'n_estimators': 300}\n",
            "1208.9767821651608 {'max_depth': 8, 'min_samples_split': 0.02, 'n_estimators': 900}\n",
            "1364.241668140122 {'max_depth': 8, 'min_samples_split': 0.2, 'n_estimators': 300}\n",
            "1370.561230945698 {'max_depth': 8, 'min_samples_split': 0.2, 'n_estimators': 900}\n"
          ],
          "name": "stdout"
        }
      ]
    },
    {
      "cell_type": "code",
      "metadata": {
        "colab": {
          "base_uri": "https://localhost:8080/"
        },
        "id": "CIpel7IyR8d1",
        "outputId": "09c7ffb9-fa72-4d42-c9c5-1f086b0ea556"
      },
      "source": [
        "from sklearn.model_selection import GridSearchCV\n",
        "\n",
        "param_grid = [\n",
        "    {'n_estimators': [700,900,1100], 'max_depth': [6,8,10],'min_samples_split':[0.01,0.02,0.05]}\n",
        "]\n",
        "\n",
        "forest_reg = RandomForestRegressor()\n",
        "\n",
        "grid_search = GridSearchCV(forest_reg, param_grid, cv=5,\n",
        "                          scoring= 'neg_mean_squared_error',\n",
        "                          return_train_score= True)\n",
        "\n",
        "grid_search.fit(X_train, y_train)"
      ],
      "execution_count": null,
      "outputs": [
        {
          "output_type": "execute_result",
          "data": {
            "text/plain": [
              "GridSearchCV(cv=5, error_score=nan,\n",
              "             estimator=RandomForestRegressor(bootstrap=True, ccp_alpha=0.0,\n",
              "                                             criterion='mse', max_depth=None,\n",
              "                                             max_features='auto',\n",
              "                                             max_leaf_nodes=None,\n",
              "                                             max_samples=None,\n",
              "                                             min_impurity_decrease=0.0,\n",
              "                                             min_impurity_split=None,\n",
              "                                             min_samples_leaf=1,\n",
              "                                             min_samples_split=2,\n",
              "                                             min_weight_fraction_leaf=0.0,\n",
              "                                             n_estimators=100, n_jobs=None,\n",
              "                                             oob_score=False, random_state=None,\n",
              "                                             verbose=0, warm_start=False),\n",
              "             iid='deprecated', n_jobs=None,\n",
              "             param_grid=[{'max_depth': [6, 8, 10],\n",
              "                          'min_samples_split': [0.01, 0.02, 0.05],\n",
              "                          'n_estimators': [700, 900, 1100]}],\n",
              "             pre_dispatch='2*n_jobs', refit=True, return_train_score=True,\n",
              "             scoring='neg_mean_squared_error', verbose=0)"
            ]
          },
          "metadata": {
            "tags": []
          },
          "execution_count": 13
        }
      ]
    },
    {
      "cell_type": "code",
      "metadata": {
        "colab": {
          "base_uri": "https://localhost:8080/"
        },
        "id": "XHFuTqToSXuU",
        "outputId": "9d9d699d-bb74-4eb3-95b5-6b48c1daf14f"
      },
      "source": [
        "grid_search.best_params_"
      ],
      "execution_count": null,
      "outputs": [
        {
          "output_type": "execute_result",
          "data": {
            "text/plain": [
              "{'max_depth': 8, 'min_samples_split': 0.01, 'n_estimators': 1100}"
            ]
          },
          "metadata": {
            "tags": []
          },
          "execution_count": 14
        }
      ]
    },
    {
      "cell_type": "code",
      "metadata": {
        "colab": {
          "base_uri": "https://localhost:8080/"
        },
        "id": "l00Miv4xbOar",
        "outputId": "e002d324-f9a2-46cd-fae0-4c1d085d361a"
      },
      "source": [
        "grid_search.best_estimator_"
      ],
      "execution_count": null,
      "outputs": [
        {
          "output_type": "execute_result",
          "data": {
            "text/plain": [
              "RandomForestRegressor(bootstrap=True, ccp_alpha=0.0, criterion='mse',\n",
              "                      max_depth=8, max_features='auto', max_leaf_nodes=None,\n",
              "                      max_samples=None, min_impurity_decrease=0.0,\n",
              "                      min_impurity_split=None, min_samples_leaf=1,\n",
              "                      min_samples_split=0.01, min_weight_fraction_leaf=0.0,\n",
              "                      n_estimators=1100, n_jobs=None, oob_score=False,\n",
              "                      random_state=None, verbose=0, warm_start=False)"
            ]
          },
          "metadata": {
            "tags": []
          },
          "execution_count": 15
        }
      ]
    },
    {
      "cell_type": "code",
      "metadata": {
        "colab": {
          "base_uri": "https://localhost:8080/"
        },
        "id": "iC_k5SagbSrW",
        "outputId": "5e57ea05-1cd6-43f1-abf0-83753f31da23"
      },
      "source": [
        "cvres= grid_search.cv_results_\n",
        "for mean_score, params in zip(cvres[\"mean_test_score\"], cvres[\"params\"]):\n",
        "    print(np.sqrt(-mean_score), params)"
      ],
      "execution_count": null,
      "outputs": [
        {
          "output_type": "stream",
          "text": [
            "1202.7118205365807 {'max_depth': 6, 'min_samples_split': 0.01, 'n_estimators': 700}\n",
            "1203.5540511247916 {'max_depth': 6, 'min_samples_split': 0.01, 'n_estimators': 900}\n",
            "1199.8680958675711 {'max_depth': 6, 'min_samples_split': 0.01, 'n_estimators': 1100}\n",
            "1210.537232522872 {'max_depth': 6, 'min_samples_split': 0.02, 'n_estimators': 700}\n",
            "1202.9221984339702 {'max_depth': 6, 'min_samples_split': 0.02, 'n_estimators': 900}\n",
            "1209.374860978885 {'max_depth': 6, 'min_samples_split': 0.02, 'n_estimators': 1100}\n",
            "1283.0700019685553 {'max_depth': 6, 'min_samples_split': 0.05, 'n_estimators': 700}\n",
            "1288.8147511580216 {'max_depth': 6, 'min_samples_split': 0.05, 'n_estimators': 900}\n",
            "1282.9843571147173 {'max_depth': 6, 'min_samples_split': 0.05, 'n_estimators': 1100}\n",
            "1202.9638785983823 {'max_depth': 8, 'min_samples_split': 0.01, 'n_estimators': 700}\n",
            "1205.2494424245504 {'max_depth': 8, 'min_samples_split': 0.01, 'n_estimators': 900}\n",
            "1198.5878266178831 {'max_depth': 8, 'min_samples_split': 0.01, 'n_estimators': 1100}\n",
            "1209.2928000018278 {'max_depth': 8, 'min_samples_split': 0.02, 'n_estimators': 700}\n",
            "1209.031758091094 {'max_depth': 8, 'min_samples_split': 0.02, 'n_estimators': 900}\n",
            "1212.7593309363847 {'max_depth': 8, 'min_samples_split': 0.02, 'n_estimators': 1100}\n",
            "1286.796117578845 {'max_depth': 8, 'min_samples_split': 0.05, 'n_estimators': 700}\n",
            "1281.7836447648242 {'max_depth': 8, 'min_samples_split': 0.05, 'n_estimators': 900}\n",
            "1287.11688413474 {'max_depth': 8, 'min_samples_split': 0.05, 'n_estimators': 1100}\n",
            "1203.5327084549197 {'max_depth': 10, 'min_samples_split': 0.01, 'n_estimators': 700}\n",
            "1208.0097628533915 {'max_depth': 10, 'min_samples_split': 0.01, 'n_estimators': 900}\n",
            "1206.9826167615777 {'max_depth': 10, 'min_samples_split': 0.01, 'n_estimators': 1100}\n",
            "1206.4899458076004 {'max_depth': 10, 'min_samples_split': 0.02, 'n_estimators': 700}\n",
            "1209.0096249903413 {'max_depth': 10, 'min_samples_split': 0.02, 'n_estimators': 900}\n",
            "1209.134226145974 {'max_depth': 10, 'min_samples_split': 0.02, 'n_estimators': 1100}\n",
            "1289.5030791915808 {'max_depth': 10, 'min_samples_split': 0.05, 'n_estimators': 700}\n",
            "1289.2010626726756 {'max_depth': 10, 'min_samples_split': 0.05, 'n_estimators': 900}\n",
            "1287.780912874386 {'max_depth': 10, 'min_samples_split': 0.05, 'n_estimators': 1100}\n"
          ],
          "name": "stdout"
        }
      ]
    },
    {
      "cell_type": "code",
      "metadata": {
        "colab": {
          "base_uri": "https://localhost:8080/"
        },
        "id": "OTvkxmvTldA9",
        "outputId": "8228cc87-41c4-4371-a729-f0887960d772"
      },
      "source": [
        "feature_importances = grid_search.best_estimator_.feature_importances_\n",
        "feature_importances"
      ],
      "execution_count": null,
      "outputs": [
        {
          "output_type": "execute_result",
          "data": {
            "text/plain": [
              "array([0.23500703, 0.00102575, 0.27724563, 0.4759765 , 0.01074509])"
            ]
          },
          "metadata": {
            "tags": []
          },
          "execution_count": 37
        }
      ]
    },
    {
      "cell_type": "code",
      "metadata": {
        "id": "x2lrM3f1bWNS"
      },
      "source": [
        "#RANDOM FOREST\n",
        "from sklearn.ensemble import RandomForestRegressor\n",
        "\n",
        "y_trans= np.log1p(y_train)\n",
        "rnd_forest= RandomForestRegressor(bootstrap=True, ccp_alpha=0.0, criterion='mse',\n",
        "                      max_depth=10, max_features='auto', max_leaf_nodes=None,\n",
        "                      max_samples=None, min_impurity_decrease=0.0,\n",
        "                      min_impurity_split=None, min_samples_leaf=1,\n",
        "                      min_samples_split=0.01, min_weight_fraction_leaf=0.0,\n",
        "                      n_estimators=900, n_jobs=-1, oob_score=False,\n",
        "                      random_state=None, verbose=0, warm_start=False)\n",
        "rnd_forest.fit(X_train,y_train)\n",
        "y_pred=rnd_forest.predict(X_train)\n",
        "y_pred_test=rnd_forest.predict(X_test)"
      ],
      "execution_count": null,
      "outputs": []
    },
    {
      "cell_type": "code",
      "metadata": {
        "colab": {
          "base_uri": "https://localhost:8080/"
        },
        "id": "Nqewlyl1b7Ak",
        "outputId": "9e28c8e1-7721-4102-a129-fef045233ba6"
      },
      "source": [
        "#EQM train\n",
        "for_mse = mean_squared_error(y_train, y_pred)\n",
        "for_rmse = np.sqrt(for_mse)\n",
        "for_rmse"
      ],
      "execution_count": null,
      "outputs": [
        {
          "output_type": "execute_result",
          "data": {
            "text/plain": [
              "559.2106976104324"
            ]
          },
          "metadata": {
            "tags": []
          },
          "execution_count": 55
        }
      ]
    },
    {
      "cell_type": "code",
      "metadata": {
        "colab": {
          "base_uri": "https://localhost:8080/"
        },
        "id": "rimu4MuXb80r",
        "outputId": "677fed4c-486d-4b14-9bce-7a8e37c1d16f"
      },
      "source": [
        "#R2 train\n",
        "from sklearn.metrics import r2_score\n",
        "r2=r2_score(y_train,  y_pred)\n",
        "r2"
      ],
      "execution_count": null,
      "outputs": [
        {
          "output_type": "execute_result",
          "data": {
            "text/plain": [
              "0.864153529782089"
            ]
          },
          "metadata": {
            "tags": []
          },
          "execution_count": 39
        }
      ]
    },
    {
      "cell_type": "code",
      "metadata": {
        "colab": {
          "base_uri": "https://localhost:8080/"
        },
        "id": "HhG9WSpDcS2M",
        "outputId": "d346ec2b-b5c7-4fd9-e58d-a5a1ff5fbfdf"
      },
      "source": [
        "#EQM test\n",
        "y_pred_test= rnd_clf.predict(X_test)\n",
        "for_mse = mean_squared_error(y_test,y_pred_test)\n",
        "for_rmse = np.sqrt(for_mse)\n",
        "for_rmse"
      ],
      "execution_count": null,
      "outputs": [
        {
          "output_type": "execute_result",
          "data": {
            "text/plain": [
              "395.60569947700384"
            ]
          },
          "metadata": {
            "tags": []
          },
          "execution_count": 45
        }
      ]
    },
    {
      "cell_type": "code",
      "metadata": {
        "colab": {
          "base_uri": "https://localhost:8080/"
        },
        "id": "DpiGFFlFcTtd",
        "outputId": "73745479-a399-44a6-e6b1-1f8642dccbe9"
      },
      "source": [
        "#R2 test\n",
        "r2=r2_score(y_test, y_pred_test)\n",
        "r2"
      ],
      "execution_count": null,
      "outputs": [
        {
          "output_type": "execute_result",
          "data": {
            "text/plain": [
              "0.792804434172072"
            ]
          },
          "metadata": {
            "tags": []
          },
          "execution_count": 46
        }
      ]
    },
    {
      "cell_type": "code",
      "metadata": {
        "id": "vvl_RymBc5Uh"
      },
      "source": [
        "#CROSS VALIDATION\n",
        "from sklearn.model_selection import cross_val_score\n",
        "scores= cross_val_score(rnd_clf, X_train, y_train,\n",
        "                       scoring=\"neg_mean_squared_error\", cv=10)\n",
        "forest_rmse_scores = np.sqrt(-scores)\n",
        "def display_scores(scores):\n",
        "    print(\"Scores:\", scores)\n",
        "    print(\"Mean:\", scores.mean())\n",
        "    print(\"Standard Dev:\", scores.std())"
      ],
      "execution_count": null,
      "outputs": []
    },
    {
      "cell_type": "code",
      "metadata": {
        "colab": {
          "base_uri": "https://localhost:8080/"
        },
        "id": "l525Y1SHekv_",
        "outputId": "0448bf91-69d8-4633-df6f-8ba7b1af8a0c"
      },
      "source": [
        "display_scores(forest_rmse_scores)"
      ],
      "execution_count": null,
      "outputs": [
        {
          "output_type": "stream",
          "text": [
            "Scores: [ 405.33658339 3191.83407474  500.88056377  388.66064328  389.98455281\n",
            "  439.03771586  677.65673185  418.16145558  400.84653121  402.41228477]\n",
            "Mean: 721.4811137252789\n",
            "Standard Dev: 827.660816502421\n"
          ],
          "name": "stdout"
        }
      ]
    },
    {
      "cell_type": "code",
      "metadata": {
        "id": "-BXO7VX4dnVE",
        "colab": {
          "base_uri": "https://localhost:8080/"
        },
        "outputId": "65529dec-7117-4d36-d4b4-abf102173a5f"
      },
      "source": [
        "from sklearn.model_selection import GridSearchCV\n",
        "\n",
        "param_grid = [\n",
        "    {'n_estimators': [300], 'max_depth': [10],'min_samples_split':[0.01], 'max_leaf_nodes':[2,3,7,8]}\n",
        "]\n",
        "\n",
        "forest_reg = RandomForestRegressor()\n",
        "\n",
        "grid_search = GridSearchCV(forest_reg, param_grid, cv=5,\n",
        "                          scoring= 'neg_mean_squared_error',\n",
        "                          return_train_score= True)\n",
        "\n",
        "grid_search.fit(X_train, y_e_train)"
      ],
      "execution_count": null,
      "outputs": [
        {
          "output_type": "execute_result",
          "data": {
            "text/plain": [
              "GridSearchCV(cv=5, error_score=nan,\n",
              "             estimator=RandomForestRegressor(bootstrap=True, ccp_alpha=0.0,\n",
              "                                             criterion='mse', max_depth=None,\n",
              "                                             max_features='auto',\n",
              "                                             max_leaf_nodes=None,\n",
              "                                             max_samples=None,\n",
              "                                             min_impurity_decrease=0.0,\n",
              "                                             min_impurity_split=None,\n",
              "                                             min_samples_leaf=1,\n",
              "                                             min_samples_split=2,\n",
              "                                             min_weight_fraction_leaf=0.0,\n",
              "                                             n_estimators=100, n_jobs=None,\n",
              "                                             oob_score=False, random_state=None,\n",
              "                                             verbose=0, warm_start=False),\n",
              "             iid='deprecated', n_jobs=None,\n",
              "             param_grid=[{'max_depth': [10], 'max_leaf_nodes': [2, 3, 7, 8],\n",
              "                          'min_samples_split': [0.01], 'n_estimators': [300]}],\n",
              "             pre_dispatch='2*n_jobs', refit=True, return_train_score=True,\n",
              "             scoring='neg_mean_squared_error', verbose=0)"
            ]
          },
          "metadata": {
            "tags": []
          },
          "execution_count": 19
        }
      ]
    },
    {
      "cell_type": "code",
      "metadata": {
        "colab": {
          "base_uri": "https://localhost:8080/"
        },
        "id": "Z1K03JTohjs9",
        "outputId": "570b35ec-e7be-4706-bdf9-1a05d041a15d"
      },
      "source": [
        "grid_search.best_params_"
      ],
      "execution_count": null,
      "outputs": [
        {
          "output_type": "execute_result",
          "data": {
            "text/plain": [
              "{'max_depth': 10,\n",
              " 'max_leaf_nodes': 8,\n",
              " 'min_samples_split': 0.01,\n",
              " 'n_estimators': 300}"
            ]
          },
          "metadata": {
            "tags": []
          },
          "execution_count": 20
        }
      ]
    },
    {
      "cell_type": "code",
      "metadata": {
        "colab": {
          "base_uri": "https://localhost:8080/"
        },
        "id": "25iG-qSthjmk",
        "outputId": "7997ebd7-387a-46c0-97a7-fff00b72c9d2"
      },
      "source": [
        "grid_search.best_estimator_"
      ],
      "execution_count": null,
      "outputs": [
        {
          "output_type": "execute_result",
          "data": {
            "text/plain": [
              "RandomForestRegressor(bootstrap=True, ccp_alpha=0.0, criterion='mse',\n",
              "                      max_depth=10, max_features='auto', max_leaf_nodes=8,\n",
              "                      max_samples=None, min_impurity_decrease=0.0,\n",
              "                      min_impurity_split=None, min_samples_leaf=1,\n",
              "                      min_samples_split=0.01, min_weight_fraction_leaf=0.0,\n",
              "                      n_estimators=300, n_jobs=None, oob_score=False,\n",
              "                      random_state=None, verbose=0, warm_start=False)"
            ]
          },
          "metadata": {
            "tags": []
          },
          "execution_count": 21
        }
      ]
    },
    {
      "cell_type": "code",
      "metadata": {
        "id": "BkI5Gq9Whjd6"
      },
      "source": [
        "#RANDOM FOREST\n",
        "rnd_forest= RandomForestRegressor(bootstrap=True, ccp_alpha=0.0, criterion='mse',\n",
        "                      max_depth=10, max_features='auto', max_leaf_nodes=8,\n",
        "                      max_samples=None, min_impurity_decrease=0.0,\n",
        "                      min_impurity_split=None, min_samples_leaf=1,\n",
        "                      min_samples_split=0.01, min_weight_fraction_leaf=0.0,\n",
        "                      n_estimators=300, n_jobs=None, oob_score=True,\n",
        "                      random_state=None, verbose=0, warm_start=False)\n",
        "rnd_forest.fit(X_train,y_train)\n",
        "y_pred_e=rnd_forest.predict(X_train)\n",
        "y_pred_test_e=rnd_forest.predict(X_test)"
      ],
      "execution_count": null,
      "outputs": []
    },
    {
      "cell_type": "code",
      "metadata": {
        "colab": {
          "base_uri": "https://localhost:8080/"
        },
        "id": "MeQfc5b3fwhQ",
        "outputId": "bc36167c-f98b-49ec-eebd-d75580b62701"
      },
      "source": [
        "from sklearn.model_selection import GridSearchCV\n",
        "y_hat=y_pred+y_pred_e\n",
        "y_hat_test=y_pred_test+y_pred_test_e\n",
        "param_grid = [\n",
        "    {'n_estimators': [300, 900], 'max_depth': [2,8],'min_samples_split':[0.02,0.2]}\n",
        "]\n",
        "\n",
        "forest_reg = RandomForestRegressor()\n",
        "\n",
        "grid_search = GridSearchCV(forest_reg, param_grid, cv=5,\n",
        "                          scoring= 'neg_mean_squared_error',\n",
        "                          return_train_score= True)\n",
        "\n",
        "grid_search.fit(X_train, y_hat)"
      ],
      "execution_count": null,
      "outputs": [
        {
          "output_type": "execute_result",
          "data": {
            "text/plain": [
              "GridSearchCV(cv=5, error_score=nan,\n",
              "             estimator=RandomForestRegressor(bootstrap=True, ccp_alpha=0.0,\n",
              "                                             criterion='mse', max_depth=None,\n",
              "                                             max_features='auto',\n",
              "                                             max_leaf_nodes=None,\n",
              "                                             max_samples=None,\n",
              "                                             min_impurity_decrease=0.0,\n",
              "                                             min_impurity_split=None,\n",
              "                                             min_samples_leaf=1,\n",
              "                                             min_samples_split=2,\n",
              "                                             min_weight_fraction_leaf=0.0,\n",
              "                                             n_estimators=100, n_jobs=None,\n",
              "                                             oob_score=False, random_state=None,\n",
              "                                             verbose=0, warm_start=False),\n",
              "             iid='deprecated', n_jobs=None,\n",
              "             param_grid=[{'max_depth': [2, 8], 'min_samples_split': [0.02, 0.2],\n",
              "                          'n_estimators': [300, 900]}],\n",
              "             pre_dispatch='2*n_jobs', refit=True, return_train_score=True,\n",
              "             scoring='neg_mean_squared_error', verbose=0)"
            ]
          },
          "metadata": {
            "tags": []
          },
          "execution_count": 26
        }
      ]
    },
    {
      "cell_type": "code",
      "metadata": {
        "colab": {
          "base_uri": "https://localhost:8080/"
        },
        "id": "Cq1yqqyEgjgf",
        "outputId": "f0c8d769-868d-40c4-cd3e-d6ffb9788f5c"
      },
      "source": [
        "grid_search.best_params_"
      ],
      "execution_count": null,
      "outputs": [
        {
          "output_type": "execute_result",
          "data": {
            "text/plain": [
              "{'max_depth': 8, 'min_samples_split': 0.02, 'n_estimators': 300}"
            ]
          },
          "metadata": {
            "tags": []
          },
          "execution_count": 27
        }
      ]
    },
    {
      "cell_type": "code",
      "metadata": {
        "colab": {
          "base_uri": "https://localhost:8080/"
        },
        "id": "4N_tY8coS83D",
        "outputId": "6c528913-525e-4a85-ffba-6023cc6cbc80"
      },
      "source": [
        "grid_search.best_estimator_"
      ],
      "execution_count": null,
      "outputs": [
        {
          "output_type": "execute_result",
          "data": {
            "text/plain": [
              "RandomForestRegressor(bootstrap=True, ccp_alpha=0.0, criterion='mse',\n",
              "                      max_depth=8, max_features='auto', max_leaf_nodes=None,\n",
              "                      max_samples=None, min_impurity_decrease=0.0,\n",
              "                      min_impurity_split=None, min_samples_leaf=1,\n",
              "                      min_samples_split=0.02, min_weight_fraction_leaf=0.0,\n",
              "                      n_estimators=300, n_jobs=None, oob_score=False,\n",
              "                      random_state=None, verbose=0, warm_start=False)"
            ]
          },
          "metadata": {
            "tags": []
          },
          "execution_count": 28
        }
      ]
    },
    {
      "cell_type": "code",
      "metadata": {
        "colab": {
          "base_uri": "https://localhost:8080/"
        },
        "id": "aWM3EYskjvaB",
        "outputId": "83fb27c2-f7f4-4184-8252-84ba6a538b10"
      },
      "source": [
        "cvres= grid_search.cv_results_\n",
        "for mean_score, params in zip(cvres[\"mean_test_score\"], cvres[\"params\"]):\n",
        "    print(np.sqrt(-mean_score), params)"
      ],
      "execution_count": null,
      "outputs": [
        {
          "output_type": "stream",
          "text": [
            "1910.3244580428873 {'max_depth': 2, 'min_samples_split': 0.02, 'n_estimators': 300}\n",
            "1901.893876465289 {'max_depth': 2, 'min_samples_split': 0.02, 'n_estimators': 900}\n",
            "1994.4757679288316 {'max_depth': 2, 'min_samples_split': 0.2, 'n_estimators': 300}\n",
            "1993.7692941105206 {'max_depth': 2, 'min_samples_split': 0.2, 'n_estimators': 900}\n",
            "1598.7444612913991 {'max_depth': 8, 'min_samples_split': 0.02, 'n_estimators': 300}\n",
            "1605.8994693330553 {'max_depth': 8, 'min_samples_split': 0.02, 'n_estimators': 900}\n",
            "1947.4310691950009 {'max_depth': 8, 'min_samples_split': 0.2, 'n_estimators': 300}\n",
            "1948.8540174048544 {'max_depth': 8, 'min_samples_split': 0.2, 'n_estimators': 900}\n"
          ],
          "name": "stdout"
        }
      ]
    },
    {
      "cell_type": "code",
      "metadata": {
        "id": "4r7ojaopj0YJ",
        "colab": {
          "base_uri": "https://localhost:8080/"
        },
        "outputId": "46531838-e2ff-4128-f409-718cabfdcb75"
      },
      "source": [
        "from sklearn.model_selection import GridSearchCV\n",
        "y_hat=y_pred+y_pred_e\n",
        "y_hat_test=y_pred_test+y_pred_test_e\n",
        "param_grid = [\n",
        "    {'n_estimators': [200,300, 400], 'max_depth': [6,8,10],'min_samples_split':[0.01,0.02,0.05]}\n",
        "]\n",
        "\n",
        "forest_reg = RandomForestRegressor()\n",
        "\n",
        "grid_search = GridSearchCV(forest_reg, param_grid, cv=5,\n",
        "                          scoring= 'neg_mean_squared_error',\n",
        "                          return_train_score= True)\n",
        "\n",
        "grid_search.fit(X_train, y_hat)"
      ],
      "execution_count": null,
      "outputs": [
        {
          "output_type": "execute_result",
          "data": {
            "text/plain": [
              "GridSearchCV(cv=5, error_score=nan,\n",
              "             estimator=RandomForestRegressor(bootstrap=True, ccp_alpha=0.0,\n",
              "                                             criterion='mse', max_depth=None,\n",
              "                                             max_features='auto',\n",
              "                                             max_leaf_nodes=None,\n",
              "                                             max_samples=None,\n",
              "                                             min_impurity_decrease=0.0,\n",
              "                                             min_impurity_split=None,\n",
              "                                             min_samples_leaf=1,\n",
              "                                             min_samples_split=2,\n",
              "                                             min_weight_fraction_leaf=0.0,\n",
              "                                             n_estimators=100, n_jobs=None,\n",
              "                                             oob_score=False, random_state=None,\n",
              "                                             verbose=0, warm_start=False),\n",
              "             iid='deprecated', n_jobs=None,\n",
              "             param_grid=[{'max_depth': [6, 8, 10],\n",
              "                          'min_samples_split': [0.01, 0.02, 0.05],\n",
              "                          'n_estimators': [200, 300, 400]}],\n",
              "             pre_dispatch='2*n_jobs', refit=True, return_train_score=True,\n",
              "             scoring='neg_mean_squared_error', verbose=0)"
            ]
          },
          "metadata": {
            "tags": []
          },
          "execution_count": 30
        }
      ]
    },
    {
      "cell_type": "code",
      "metadata": {
        "colab": {
          "base_uri": "https://localhost:8080/"
        },
        "id": "QWermyt57igu",
        "outputId": "1aa9ea24-55e5-45b2-fda5-03ce948768e4"
      },
      "source": [
        "grid_search.best_params_"
      ],
      "execution_count": null,
      "outputs": [
        {
          "output_type": "execute_result",
          "data": {
            "text/plain": [
              "{'max_depth': 10, 'min_samples_split': 0.01, 'n_estimators': 300}"
            ]
          },
          "metadata": {
            "tags": []
          },
          "execution_count": 31
        }
      ]
    },
    {
      "cell_type": "code",
      "metadata": {
        "colab": {
          "base_uri": "https://localhost:8080/"
        },
        "id": "xWCw-lcP7tqL",
        "outputId": "cd39a0a9-e018-4bfd-a515-667a4034b41d"
      },
      "source": [
        "grid_search.best_estimator_"
      ],
      "execution_count": null,
      "outputs": [
        {
          "output_type": "execute_result",
          "data": {
            "text/plain": [
              "RandomForestRegressor(bootstrap=True, ccp_alpha=0.0, criterion='mse',\n",
              "                      max_depth=10, max_features='auto', max_leaf_nodes=None,\n",
              "                      max_samples=None, min_impurity_decrease=0.0,\n",
              "                      min_impurity_split=None, min_samples_leaf=1,\n",
              "                      min_samples_split=0.01, min_weight_fraction_leaf=0.0,\n",
              "                      n_estimators=300, n_jobs=None, oob_score=False,\n",
              "                      random_state=None, verbose=0, warm_start=False)"
            ]
          },
          "metadata": {
            "tags": []
          },
          "execution_count": 32
        }
      ]
    },
    {
      "cell_type": "code",
      "metadata": {
        "colab": {
          "base_uri": "https://localhost:8080/"
        },
        "id": "yRrH0zjB70L3",
        "outputId": "1f660fa5-b1a1-42a9-8f19-66fabd40b829"
      },
      "source": [
        "cvres= grid_search.cv_results_\n",
        "for mean_score, params in zip(cvres[\"mean_test_score\"], cvres[\"params\"]):\n",
        "    print(np.sqrt(-mean_score), params)"
      ],
      "execution_count": null,
      "outputs": [
        {
          "output_type": "stream",
          "text": [
            "1603.770358875213 {'max_depth': 6, 'min_samples_split': 0.01, 'n_estimators': 200}\n",
            "1586.0580741797787 {'max_depth': 6, 'min_samples_split': 0.01, 'n_estimators': 300}\n",
            "1597.4279588989273 {'max_depth': 6, 'min_samples_split': 0.01, 'n_estimators': 400}\n",
            "1605.073623331674 {'max_depth': 6, 'min_samples_split': 0.02, 'n_estimators': 200}\n",
            "1595.6031290900762 {'max_depth': 6, 'min_samples_split': 0.02, 'n_estimators': 300}\n",
            "1613.4953868503326 {'max_depth': 6, 'min_samples_split': 0.02, 'n_estimators': 400}\n",
            "1780.110976649898 {'max_depth': 6, 'min_samples_split': 0.05, 'n_estimators': 200}\n",
            "1764.822750699152 {'max_depth': 6, 'min_samples_split': 0.05, 'n_estimators': 300}\n",
            "1771.787275423462 {'max_depth': 6, 'min_samples_split': 0.05, 'n_estimators': 400}\n",
            "1582.9865260462102 {'max_depth': 8, 'min_samples_split': 0.01, 'n_estimators': 200}\n",
            "1596.705159903886 {'max_depth': 8, 'min_samples_split': 0.01, 'n_estimators': 300}\n",
            "1598.9342868746603 {'max_depth': 8, 'min_samples_split': 0.01, 'n_estimators': 400}\n",
            "1620.827012064574 {'max_depth': 8, 'min_samples_split': 0.02, 'n_estimators': 200}\n",
            "1595.6577565296009 {'max_depth': 8, 'min_samples_split': 0.02, 'n_estimators': 300}\n",
            "1594.1273030767488 {'max_depth': 8, 'min_samples_split': 0.02, 'n_estimators': 400}\n",
            "1768.0197025191858 {'max_depth': 8, 'min_samples_split': 0.05, 'n_estimators': 200}\n",
            "1765.1311380154204 {'max_depth': 8, 'min_samples_split': 0.05, 'n_estimators': 300}\n",
            "1768.3730992633266 {'max_depth': 8, 'min_samples_split': 0.05, 'n_estimators': 400}\n",
            "1598.2222598207268 {'max_depth': 10, 'min_samples_split': 0.01, 'n_estimators': 200}\n",
            "1582.7604464625642 {'max_depth': 10, 'min_samples_split': 0.01, 'n_estimators': 300}\n",
            "1591.32485328266 {'max_depth': 10, 'min_samples_split': 0.01, 'n_estimators': 400}\n",
            "1609.7278331519244 {'max_depth': 10, 'min_samples_split': 0.02, 'n_estimators': 200}\n",
            "1598.7014561581668 {'max_depth': 10, 'min_samples_split': 0.02, 'n_estimators': 300}\n",
            "1592.2697837613998 {'max_depth': 10, 'min_samples_split': 0.02, 'n_estimators': 400}\n",
            "1762.8066468106558 {'max_depth': 10, 'min_samples_split': 0.05, 'n_estimators': 200}\n",
            "1768.7376085052695 {'max_depth': 10, 'min_samples_split': 0.05, 'n_estimators': 300}\n",
            "1771.8133266035059 {'max_depth': 10, 'min_samples_split': 0.05, 'n_estimators': 400}\n"
          ],
          "name": "stdout"
        }
      ]
    },
    {
      "cell_type": "code",
      "metadata": {
        "colab": {
          "base_uri": "https://localhost:8080/",
          "height": 129
        },
        "id": "7_1jl0rS8Q_H",
        "outputId": "63a071c1-e29d-43d6-c529-12e74d3e83e3"
      },
      "source": [
        "from scikit-learn.metrics import mean_absolute_percentage_error"
      ],
      "execution_count": null,
      "outputs": [
        {
          "output_type": "error",
          "ename": "SyntaxError",
          "evalue": "ignored",
          "traceback": [
            "\u001b[0;36m  File \u001b[0;32m\"<ipython-input-10-0216bfd5e0ba>\"\u001b[0;36m, line \u001b[0;32m1\u001b[0m\n\u001b[0;31m    from scikit-learn.metrics import mean_absolute_percentage_error\u001b[0m\n\u001b[0m               ^\u001b[0m\n\u001b[0;31mSyntaxError\u001b[0m\u001b[0;31m:\u001b[0m invalid syntax\n"
          ]
        }
      ]
    },
    {
      "cell_type": "code",
      "metadata": {
        "colab": {
          "base_uri": "https://localhost:8080/",
          "height": 197
        },
        "id": "TPtIjfG4Ma-B",
        "outputId": "1c67b238-07c4-4d10-a51a-88bdd7151699"
      },
      "source": [
        "df.head()"
      ],
      "execution_count": null,
      "outputs": [
        {
          "output_type": "execute_result",
          "data": {
            "text/html": [
              "<div>\n",
              "<style scoped>\n",
              "    .dataframe tbody tr th:only-of-type {\n",
              "        vertical-align: middle;\n",
              "    }\n",
              "\n",
              "    .dataframe tbody tr th {\n",
              "        vertical-align: top;\n",
              "    }\n",
              "\n",
              "    .dataframe thead th {\n",
              "        text-align: right;\n",
              "    }\n",
              "</style>\n",
              "<table border=\"1\" class=\"dataframe\">\n",
              "  <thead>\n",
              "    <tr style=\"text-align: right;\">\n",
              "      <th></th>\n",
              "      <th>id</th>\n",
              "      <th>n_restituzioni</th>\n",
              "      <th>Dummy_neg</th>\n",
              "      <th>Recency</th>\n",
              "      <th>Frequency</th>\n",
              "      <th>Monetary</th>\n",
              "      <th>T</th>\n",
              "      <th>purchaseamount_m4</th>\n",
              "    </tr>\n",
              "  </thead>\n",
              "  <tbody>\n",
              "    <tr>\n",
              "      <th>0</th>\n",
              "      <td>4330474628</td>\n",
              "      <td>0</td>\n",
              "      <td>0</td>\n",
              "      <td>7</td>\n",
              "      <td>8</td>\n",
              "      <td>21.84</td>\n",
              "      <td>7</td>\n",
              "      <td>1088.07</td>\n",
              "    </tr>\n",
              "    <tr>\n",
              "      <th>1</th>\n",
              "      <td>4330475834</td>\n",
              "      <td>0</td>\n",
              "      <td>0</td>\n",
              "      <td>7</td>\n",
              "      <td>16</td>\n",
              "      <td>47.21</td>\n",
              "      <td>7</td>\n",
              "      <td>206.63</td>\n",
              "    </tr>\n",
              "    <tr>\n",
              "      <th>2</th>\n",
              "      <td>4330479043</td>\n",
              "      <td>0</td>\n",
              "      <td>0</td>\n",
              "      <td>6</td>\n",
              "      <td>31</td>\n",
              "      <td>111.72</td>\n",
              "      <td>6</td>\n",
              "      <td>1484.16</td>\n",
              "    </tr>\n",
              "    <tr>\n",
              "      <th>3</th>\n",
              "      <td>4330479752</td>\n",
              "      <td>0</td>\n",
              "      <td>0</td>\n",
              "      <td>6</td>\n",
              "      <td>3</td>\n",
              "      <td>29.96</td>\n",
              "      <td>6</td>\n",
              "      <td>365.46</td>\n",
              "    </tr>\n",
              "    <tr>\n",
              "      <th>4</th>\n",
              "      <td>4334046217</td>\n",
              "      <td>0</td>\n",
              "      <td>0</td>\n",
              "      <td>0</td>\n",
              "      <td>14</td>\n",
              "      <td>29.17</td>\n",
              "      <td>5</td>\n",
              "      <td>904.44</td>\n",
              "    </tr>\n",
              "  </tbody>\n",
              "</table>\n",
              "</div>"
            ],
            "text/plain": [
              "           id  n_restituzioni  Dummy_neg  ...  Monetary  T  purchaseamount_m4\n",
              "0  4330474628               0          0  ...     21.84  7            1088.07\n",
              "1  4330475834               0          0  ...     47.21  7             206.63\n",
              "2  4330479043               0          0  ...    111.72  6            1484.16\n",
              "3  4330479752               0          0  ...     29.96  6             365.46\n",
              "4  4334046217               0          0  ...     29.17  5             904.44\n",
              "\n",
              "[5 rows x 8 columns]"
            ]
          },
          "metadata": {
            "tags": []
          },
          "execution_count": 11
        }
      ]
    },
    {
      "cell_type": "code",
      "metadata": {
        "id": "d_OtLvDN53e9"
      },
      "source": [
        "R2_score={}\n",
        "for x in range(2,20):\n",
        "  rnd_forest= RandomForestRegressor(criterion='mse',max_depth=x,n_estimators=y, n_jobs=-1)\n",
        "  #fit\n",
        "  #predict\n",
        "  #R2\n",
        "  R2_score[x] = dict()\n",
        "  R2_score[x] = {\"r2_train\": r2_train, \"r2_test\": r2_test}\n"
      ],
      "execution_count": null,
      "outputs": []
    }
  ]
}